{
 "cells": [
  {
   "cell_type": "markdown",
   "metadata": {
    "id": "ASf_gv8Sb3nE"
   },
   "source": [
    "# Preparation"
   ]
  },
  {
   "cell_type": "markdown",
   "metadata": {
    "id": "v_R3IfHTcAQL"
   },
   "source": [
    "## Importing necessary libraries and dataset"
   ]
  },
  {
   "cell_type": "code",
   "execution_count": 7,
   "metadata": {
    "executionInfo": {
     "elapsed": 10542,
     "status": "ok",
     "timestamp": 1738273693837,
     "user": {
      "displayName": "Felipe Bandeira Ramos",
      "userId": "10106470363166290978"
     },
     "user_tz": 480
    },
    "id": "j0Cnkn6C_Hkp"
   },
   "outputs": [
    {
     "name": "stdout",
     "output_type": "stream",
     "text": [
      "Script containing strategy evaluation functions were imported successfully!\n"
     ]
    }
   ],
   "source": [
    "# Stops the verbose from PyMC\n",
    "import logging\n",
    "logger = logging.getLogger(\"pymc\")\n",
    "logger.propagate = False\n",
    "logger.setLevel(logging.ERROR)\n",
    "\n",
    "from base_functions import *\n",
    "test_script()"
   ]
  },
  {
   "cell_type": "code",
   "execution_count": 8,
   "metadata": {},
   "outputs": [
    {
     "data": {
      "text/html": [
       "<div>\n",
       "<style scoped>\n",
       "    .dataframe tbody tr th:only-of-type {\n",
       "        vertical-align: middle;\n",
       "    }\n",
       "\n",
       "    .dataframe tbody tr th {\n",
       "        vertical-align: top;\n",
       "    }\n",
       "\n",
       "    .dataframe thead th {\n",
       "        text-align: right;\n",
       "    }\n",
       "</style>\n",
       "<table border=\"1\" class=\"dataframe\">\n",
       "  <thead>\n",
       "    <tr style=\"text-align: right;\">\n",
       "      <th></th>\n",
       "      <th>Season</th>\n",
       "      <th>Home</th>\n",
       "      <th>Away</th>\n",
       "      <th>Res</th>\n",
       "      <th>AvgCH</th>\n",
       "      <th>AvgCD</th>\n",
       "      <th>AvgCA</th>\n",
       "      <th>MaxCH</th>\n",
       "      <th>MaxCD</th>\n",
       "      <th>MaxCA</th>\n",
       "      <th>PSCH</th>\n",
       "      <th>PSCD</th>\n",
       "      <th>PSCA</th>\n",
       "    </tr>\n",
       "  </thead>\n",
       "  <tbody>\n",
       "    <tr>\n",
       "      <th>2660</th>\n",
       "      <td>2019</td>\n",
       "      <td>Sao Paulo</td>\n",
       "      <td>Botafogo RJ</td>\n",
       "      <td>H</td>\n",
       "      <td>1.74</td>\n",
       "      <td>3.37</td>\n",
       "      <td>5.14</td>\n",
       "      <td>1.81</td>\n",
       "      <td>3.60</td>\n",
       "      <td>5.80</td>\n",
       "      <td>1.78</td>\n",
       "      <td>3.39</td>\n",
       "      <td>5.61</td>\n",
       "    </tr>\n",
       "    <tr>\n",
       "      <th>2661</th>\n",
       "      <td>2019</td>\n",
       "      <td>Atletico-MG</td>\n",
       "      <td>Avai</td>\n",
       "      <td>H</td>\n",
       "      <td>1.53</td>\n",
       "      <td>3.90</td>\n",
       "      <td>6.34</td>\n",
       "      <td>1.58</td>\n",
       "      <td>4.09</td>\n",
       "      <td>7.00</td>\n",
       "      <td>1.56</td>\n",
       "      <td>4.09</td>\n",
       "      <td>6.46</td>\n",
       "    </tr>\n",
       "    <tr>\n",
       "      <th>2662</th>\n",
       "      <td>2019</td>\n",
       "      <td>Chapecoense-SC</td>\n",
       "      <td>Internacional</td>\n",
       "      <td>H</td>\n",
       "      <td>2.94</td>\n",
       "      <td>2.94</td>\n",
       "      <td>2.59</td>\n",
       "      <td>3.15</td>\n",
       "      <td>3.20</td>\n",
       "      <td>2.71</td>\n",
       "      <td>3.02</td>\n",
       "      <td>3.03</td>\n",
       "      <td>2.71</td>\n",
       "    </tr>\n",
       "    <tr>\n",
       "      <th>2663</th>\n",
       "      <td>2019</td>\n",
       "      <td>Flamengo RJ</td>\n",
       "      <td>Cruzeiro</td>\n",
       "      <td>H</td>\n",
       "      <td>2.21</td>\n",
       "      <td>3.12</td>\n",
       "      <td>3.40</td>\n",
       "      <td>2.32</td>\n",
       "      <td>3.40</td>\n",
       "      <td>3.57</td>\n",
       "      <td>2.32</td>\n",
       "      <td>3.20</td>\n",
       "      <td>3.47</td>\n",
       "    </tr>\n",
       "    <tr>\n",
       "      <th>2664</th>\n",
       "      <td>2019</td>\n",
       "      <td>Gremio</td>\n",
       "      <td>Santos</td>\n",
       "      <td>A</td>\n",
       "      <td>1.71</td>\n",
       "      <td>3.41</td>\n",
       "      <td>5.31</td>\n",
       "      <td>1.83</td>\n",
       "      <td>3.60</td>\n",
       "      <td>5.94</td>\n",
       "      <td>1.71</td>\n",
       "      <td>3.58</td>\n",
       "      <td>5.78</td>\n",
       "    </tr>\n",
       "    <tr>\n",
       "      <th>...</th>\n",
       "      <td>...</td>\n",
       "      <td>...</td>\n",
       "      <td>...</td>\n",
       "      <td>...</td>\n",
       "      <td>...</td>\n",
       "      <td>...</td>\n",
       "      <td>...</td>\n",
       "      <td>...</td>\n",
       "      <td>...</td>\n",
       "      <td>...</td>\n",
       "      <td>...</td>\n",
       "      <td>...</td>\n",
       "      <td>...</td>\n",
       "    </tr>\n",
       "    <tr>\n",
       "      <th>4935</th>\n",
       "      <td>2024</td>\n",
       "      <td>Flamengo RJ</td>\n",
       "      <td>Vitoria</td>\n",
       "      <td>D</td>\n",
       "      <td>1.37</td>\n",
       "      <td>5.02</td>\n",
       "      <td>7.66</td>\n",
       "      <td>1.40</td>\n",
       "      <td>5.30</td>\n",
       "      <td>8.25</td>\n",
       "      <td>1.38</td>\n",
       "      <td>5.20</td>\n",
       "      <td>7.93</td>\n",
       "    </tr>\n",
       "    <tr>\n",
       "      <th>4936</th>\n",
       "      <td>2024</td>\n",
       "      <td>Fortaleza</td>\n",
       "      <td>Internacional</td>\n",
       "      <td>H</td>\n",
       "      <td>2.59</td>\n",
       "      <td>3.18</td>\n",
       "      <td>2.80</td>\n",
       "      <td>2.65</td>\n",
       "      <td>3.25</td>\n",
       "      <td>2.90</td>\n",
       "      <td>2.62</td>\n",
       "      <td>3.24</td>\n",
       "      <td>2.88</td>\n",
       "    </tr>\n",
       "    <tr>\n",
       "      <th>4937</th>\n",
       "      <td>2024</td>\n",
       "      <td>Gremio</td>\n",
       "      <td>Corinthians</td>\n",
       "      <td>A</td>\n",
       "      <td>2.67</td>\n",
       "      <td>3.34</td>\n",
       "      <td>2.61</td>\n",
       "      <td>2.77</td>\n",
       "      <td>3.46</td>\n",
       "      <td>2.74</td>\n",
       "      <td>2.74</td>\n",
       "      <td>3.35</td>\n",
       "      <td>2.66</td>\n",
       "    </tr>\n",
       "    <tr>\n",
       "      <th>4938</th>\n",
       "      <td>2024</td>\n",
       "      <td>Juventude</td>\n",
       "      <td>Cruzeiro</td>\n",
       "      <td>A</td>\n",
       "      <td>2.13</td>\n",
       "      <td>3.37</td>\n",
       "      <td>3.44</td>\n",
       "      <td>2.21</td>\n",
       "      <td>3.47</td>\n",
       "      <td>3.59</td>\n",
       "      <td>2.13</td>\n",
       "      <td>3.42</td>\n",
       "      <td>3.59</td>\n",
       "    </tr>\n",
       "    <tr>\n",
       "      <th>4939</th>\n",
       "      <td>2024</td>\n",
       "      <td>Palmeiras</td>\n",
       "      <td>Fluminense</td>\n",
       "      <td>A</td>\n",
       "      <td>1.46</td>\n",
       "      <td>4.41</td>\n",
       "      <td>6.74</td>\n",
       "      <td>1.51</td>\n",
       "      <td>4.60</td>\n",
       "      <td>7.10</td>\n",
       "      <td>1.47</td>\n",
       "      <td>4.56</td>\n",
       "      <td>6.85</td>\n",
       "    </tr>\n",
       "  </tbody>\n",
       "</table>\n",
       "<p>2280 rows × 13 columns</p>\n",
       "</div>"
      ],
      "text/plain": [
       "      Season            Home           Away Res  AvgCH  AvgCD  AvgCA  MaxCH  \\\n",
       "2660    2019       Sao Paulo    Botafogo RJ   H   1.74   3.37   5.14   1.81   \n",
       "2661    2019     Atletico-MG           Avai   H   1.53   3.90   6.34   1.58   \n",
       "2662    2019  Chapecoense-SC  Internacional   H   2.94   2.94   2.59   3.15   \n",
       "2663    2019     Flamengo RJ       Cruzeiro   H   2.21   3.12   3.40   2.32   \n",
       "2664    2019          Gremio         Santos   A   1.71   3.41   5.31   1.83   \n",
       "...      ...             ...            ...  ..    ...    ...    ...    ...   \n",
       "4935    2024     Flamengo RJ        Vitoria   D   1.37   5.02   7.66   1.40   \n",
       "4936    2024       Fortaleza  Internacional   H   2.59   3.18   2.80   2.65   \n",
       "4937    2024          Gremio    Corinthians   A   2.67   3.34   2.61   2.77   \n",
       "4938    2024       Juventude       Cruzeiro   A   2.13   3.37   3.44   2.21   \n",
       "4939    2024       Palmeiras     Fluminense   A   1.46   4.41   6.74   1.51   \n",
       "\n",
       "      MaxCD  MaxCA  PSCH  PSCD  PSCA  \n",
       "2660   3.60   5.80  1.78  3.39  5.61  \n",
       "2661   4.09   7.00  1.56  4.09  6.46  \n",
       "2662   3.20   2.71  3.02  3.03  2.71  \n",
       "2663   3.40   3.57  2.32  3.20  3.47  \n",
       "2664   3.60   5.94  1.71  3.58  5.78  \n",
       "...     ...    ...   ...   ...   ...  \n",
       "4935   5.30   8.25  1.38  5.20  7.93  \n",
       "4936   3.25   2.90  2.62  3.24  2.88  \n",
       "4937   3.46   2.74  2.74  3.35  2.66  \n",
       "4938   3.47   3.59  2.13  3.42  3.59  \n",
       "4939   4.60   7.10  1.47  4.56  6.85  \n",
       "\n",
       "[2280 rows x 13 columns]"
      ]
     },
     "execution_count": 8,
     "metadata": {},
     "output_type": "execute_result"
    }
   ],
   "source": [
    "# Imports df\n",
    "try:\n",
    "    df = pd.read_csv('odds_df.csv')\n",
    "except:\n",
    "    csv_url = \"https://www.football-data.co.uk/new/BRA.csv\"\n",
    "    df = pd.read_csv(csv_url)\n",
    "\n",
    "# Checking all necessary entries exist and removes unecessary columns\n",
    "columns_to_keep = ['Season', 'Home', 'Away', 'Res', 'AvgCH', 'AvgCD', 'AvgCA','MaxCH', 'MaxCD', 'MaxCA', 'PSCH', 'PSCD', 'PSCA']\n",
    "df = df[columns_to_keep]\n",
    "df = df.dropna(subset=columns_to_keep)\n",
    "\n",
    "# Isolates the period under analysis\n",
    "df = df[(df['Season'] >= 2019) & (df['Season'] <= 2024)]\n",
    "df"
   ]
  },
  {
   "cell_type": "markdown",
   "metadata": {},
   "source": [
    "# Placing random bets\n",
    "The most basic strategy one could use to place bets is doing so randomly. Of course, very few people would actually do so in reality, but simulating this brings meaningful insights to amateur bettors. Our assumptions for this case are the following:\n",
    "1. Bettor places a bet a few days before the match, getting odds better than at closing time. We simulate that by using the maximum odds at closing.\n",
    "2. Bookmaker's vig is evenly spread across outcomes, allowing us to calculate the odds implied probabilities through the multiplication method\n",
    "3. The true sharpness of the strategy does not change over time. Therefore, we use a complete pooling approach when estimating the strategy's sharpness through MCMC"
   ]
  },
  {
   "cell_type": "code",
   "execution_count": 10,
   "metadata": {},
   "outputs": [],
   "source": [
    "def place_random_bets(df, seasons):\n",
    "  \"\"\"\n",
    "    Simulates the process of betting randomly across many seasons\n",
    "\n",
    "    Parameters:\n",
    "        df (DataFrame): A Pandas DataFrame containing match data. It is expected to have columns\n",
    "        seasons (list): A list of unique season identifiers (e.g., years or labels) to iterate over.\n",
    "\n",
    "  \"\"\"\n",
    "\n",
    "  # Initializes lists to store results for each season\n",
    "  betting_log = pd.DataFrame(columns=['Season', 'Target', 'Result', 'Successful bet', 'Profit/Loss', 'Odds locked', 'Pinnacle OIP'])\n",
    "\n",
    "  for season in seasons:\n",
    "    # Filter the DataFrame for the current season\n",
    "    season_df = df[df['Season'] == season]\n",
    "\n",
    "    # Iterate through each match in the season\n",
    "    for index, row in season_df.iterrows():\n",
    "\n",
    "      target = random.choice(['H', 'D', 'A']) # Picks a random outcome\n",
    "      result = row['Res']\n",
    "      successful_bet = 1 if target == result else 0\n",
    "      odds_locked = row[f'MaxC{target}']\n",
    "      profit_loss = (odds_locked - 1) if successful_bet else -1\n",
    "      pinnacle_odds_implied_probability = (1/row[f'PSC{target}']) / ( (1/row['PSCH']) + (1/row['PSCD']) + (1/row['PSCA']) )\n",
    "\n",
    "\n",
    "      # Populates betting log with info specific to each match\n",
    "      betting_log.loc[len(betting_log)] = {'Season': season,\n",
    "                                           'Target': target,\n",
    "                                           'Result': result,\n",
    "                                           'Successful bet': successful_bet,\n",
    "                                           'Profit/Loss': profit_loss,\n",
    "                                           'Odds locked': odds_locked,\n",
    "                                           'Pinnacle OIP': pinnacle_odds_implied_probability}\n",
    "\n",
    "  # Summarizes results and returns samples from sharpness posterior\n",
    "  posterior_samples = summarize_results(seasons, betting_log, \"Random Bets\")\n",
    "  return posterior_samples"
   ]
  },
  {
   "cell_type": "markdown",
   "metadata": {},
   "source": [
    "Below, we have the results of how the strategy performs. As one would expect, the sharpness mean of placing random bets is close to 33%, which makes sense: given we have three possible outcomes, by selecting one at random, we should get around one third of our guesses correctly. What is interestimg to notice is how profits behave. Most people would expect that, by placing random bets, a person would always suffer heavy losses, but that is not always the case. In fact, during our backtests, there were cases when the profits were as high as 17%, and the losses were as low as -29%. Which such a wide range of outcomes, Monte Carlo simulations are crucial in helping us understand what can be expected from the strategy. \n",
    "\n",
    "After ten thousand simulations of placing random bets in every match during six seasons, the average profit was 0.28%, meaning that, in expectation, a random bettor would break even. In fact, random bets led to long-term losses (that is, a cumulative loss after the six seasons) in 46.90% of the simulations, meaning that one could perfectly well end up with positive results purely by chance. \n",
    "\n",
    "This should be enough to make anyone skeptical of the results of betting influencers. Seeing a small sample of positive results, like the ones that influencers tend to post online, is not an indicative of actual sharpness. If the person behind our backtested performance were an influencer, it is likely they would brag about the 17% profit at the end of the first season. Seeing those results, viewers would probably not expect the -29% losses that were about to come. Yet, it is the same strategy, and the people following the influencers would nearly be putting their money on a coin flip without even knowing. "
   ]
  },
  {
   "cell_type": "code",
   "execution_count": 13,
   "metadata": {},
   "outputs": [
    {
     "name": "stdout",
     "output_type": "stream",
     "text": [
      "Season-specific results\n",
      "╒══════════╤═══════════════╤═══════════════════╤════════════════╤══════════════════╤════════╤══════════════╕\n",
      "│  Season  │  Bets Placed  │  Successful Bets  │  Sharpness CI  │  Sharpness Mean  │  RBEP  │  Profit (%)  │\n",
      "╞══════════╪═══════════════╪═══════════════════╪════════════════╪══════════════════╪════════╪══════════════╡\n",
      "│   2019   │      380      │        132        │ [0.303, 0.398] │       0.35       │  0.3   │     5.41     │\n",
      "├──────────┼───────────────┼───────────────────┼────────────────┼──────────────────┼────────┼──────────────┤\n",
      "│   2020   │      380      │        145        │ [0.332, 0.427] │       0.38       │  0.3   │    16.24     │\n",
      "├──────────┼───────────────┼───────────────────┼────────────────┼──────────────────┼────────┼──────────────┤\n",
      "│   2021   │      380      │        137        │ [0.315, 0.411] │       0.36       │  0.31  │    12.13     │\n",
      "├──────────┼───────────────┼───────────────────┼────────────────┼──────────────────┼────────┼──────────────┤\n",
      "│   2022   │      380      │        132        │ [0.298, 0.392] │       0.35       │  0.3   │    12.27     │\n",
      "├──────────┼───────────────┼───────────────────┼────────────────┼──────────────────┼────────┼──────────────┤\n",
      "│   2023   │      380      │        122        │ [0.277, 0.37]  │       0.32       │  0.29  │     2.65     │\n",
      "├──────────┼───────────────┼───────────────────┼────────────────┼──────────────────┼────────┼──────────────┤\n",
      "│   2024   │      380      │        146        │ [0.336, 0.435] │       0.38       │  0.3   │    12.22     │\n",
      "╘══════════╧═══════════════╧═══════════════════╧════════════════╧══════════════════╧════════╧══════════════╛\n",
      "\n",
      "Overall results\n",
      "╒══════════════╤═══════════════╤═══════════════════╤════════════════╤══════════════════╤════════╤══════════════╕\n",
      "│    Season    │  Bets Placed  │  Successful Bets  │  Sharpness CI  │  Sharpness Mean  │  RBEP  │  Profit (%)  │\n",
      "╞══════════════╪═══════════════╪═══════════════════╪════════════════╪══════════════════╪════════╪══════════════╡\n",
      "│ Whole period │     2280      │        814        │ [0.337, 0.377] │       0.36       │  0.3   │    10.15     │\n",
      "╘══════════════╧═══════════════╧═══════════════════╧════════════════╧══════════════════╧════════╧══════════════╛\n",
      "\n"
     ]
    },
    {
     "data": {
      "image/png": "[encoded data removed]",
      "text/plain": [
       "<Figure size 1000x600 with 1 Axes>"
      ]
     },
     "metadata": {},
     "output_type": "display_data"
    },
    {
     "name": "stdout",
     "output_type": "stream",
     "text": [
      "\n",
      "Summary of random effect analysis\n",
      "  Average profit over simulations: 0.18%\n",
      "  95% interval of profit: [-6.63%, 7.05%]\n",
      "  Probability of ending better off than in the backtest: 0.37%\n",
      "  Probability of ending with a loss: 48.22%\n",
      "  Probability of ending better off than safe investment: 0.42%\n"
     ]
    }
   ],
   "source": [
    "seasons = [i for i in range(2019, 2025)]\n",
    "posterior_placing_random_bets = place_random_bets(df, seasons)"
   ]
  },
  {
   "cell_type": "markdown",
   "metadata": {
    "id": "F_97DosmsTuf"
   },
   "source": [
    "# Always betting on the home team\n",
    "A second, more likely strategy a bettor could use is always betting on the home team. This strategy takes advantage of the fact that home teams have some advantage against their opponents, a well-known phenomenon among soccer fans. \n",
    "\n",
    "Assumptions:\n",
    "1. Bettor places a bet a few days before the match, getting odds better than at closing time. We simulate that by using the maximum odds at closing.\n",
    "2. Bookmaker's vig is evenly spread across outcomes, allowing us to calculate the odds implied probabilities through the multiplication method\n",
    "3. The true sharpness of the strategy does not change over time. Therefore, we use a complete pooling approach when estimating the strategy's sharpness through MCMC"
   ]
  },
  {
   "cell_type": "code",
   "execution_count": 14,
   "metadata": {
    "executionInfo": {
     "elapsed": 130,
     "status": "ok",
     "timestamp": 1738278287960,
     "user": {
      "displayName": "Felipe Bandeira Ramos",
      "userId": "10106470363166290978"
     },
     "user_tz": 480
    },
    "id": "px9RnqIDZvp2"
   },
   "outputs": [],
   "source": [
    "def always_bet_home(df, seasons):\n",
    "  \"\"\"\n",
    "    Simulates always betting on the home team across multiple seasons.\n",
    "\n",
    "    Parameters:\n",
    "        df (DataFrame): A Pandas DataFrame containing match data. It is expected to have columns\n",
    "        seasons (list): A list of unique season identifiers (e.g., years or labels) to iterate over.\n",
    "\n",
    "  \"\"\"\n",
    "\n",
    "  # Initializes lists to store results for each season\n",
    "  betting_log = pd.DataFrame(columns=['Season', 'Target', 'Result', 'Successful bet', 'Profit/Loss', 'Odds locked', 'Pinnacle OIP'])\n",
    "\n",
    "  for season in seasons:\n",
    "    # Filter the DataFrame for the current season\n",
    "    season_df = df[df['Season'] == season]\n",
    "\n",
    "    # Iterate through each match in the season\n",
    "    for index, row in season_df.iterrows():\n",
    "\n",
    "      target = 'H'\n",
    "      result = row['Res']\n",
    "      successful_bet = 1 if target == result else 0\n",
    "      odds_locked = row['MaxCH']\n",
    "      profit_loss = (odds_locked - 1) if successful_bet else -1\n",
    "      pinnacle_odds_implied_probability = (1/row['PSCH']) / ( (1/row['PSCH']) + (1/row['PSCD']) + (1/row['PSCA']) )\n",
    "\n",
    "\n",
    "      # Populates betting log with info specific to each match\n",
    "      betting_log.loc[len(betting_log)] = {'Season': season,\n",
    "                                           'Target': target,\n",
    "                                           'Result': result,\n",
    "                                           'Successful bet': successful_bet,\n",
    "                                           'Profit/Loss': profit_loss,\n",
    "                                           'Odds locked': odds_locked,\n",
    "                                           'Pinnacle OIP': pinnacle_odds_implied_probability}\n",
    "\n",
    "  # Summarizes results\n",
    "  posterior_samples = summarize_results(seasons, betting_log, \"Always Home\")\n",
    "  return posterior_samples"
   ]
  },
  {
   "cell_type": "code",
   "execution_count": 15,
   "metadata": {
    "colab": {
     "base_uri": "https://localhost:8080/",
     "height": 1000
    },
    "executionInfo": {
     "elapsed": 19634,
     "status": "ok",
     "timestamp": 1738278625690,
     "user": {
      "displayName": "Felipe Bandeira Ramos",
      "userId": "10106470363166290978"
     },
     "user_tz": 480
    },
    "id": "5OdDAwdlbbkS",
    "outputId": "c78f503f-bc25-4903-9413-e85c155d820e"
   },
   "outputs": [
    {
     "name": "stdout",
     "output_type": "stream",
     "text": [
      "Season-specific results\n",
      "╒══════════╤═══════════════╤═══════════════════╤════════════════╤══════════════════╤════════╤══════════════╕\n",
      "│  Season  │  Bets Placed  │  Successful Bets  │  Sharpness CI  │  Sharpness Mean  │  RBEP  │  Profit (%)  │\n",
      "╞══════════╪═══════════════╪═══════════════════╪════════════════╪══════════════════╪════════╪══════════════╡\n",
      "│   2019   │      380      │        184        │ [0.436, 0.534] │       0.48       │  0.47  │    -1.61     │\n",
      "├──────────┼───────────────┼───────────────────┼────────────────┼──────────────────┼────────┼──────────────┤\n",
      "│   2020   │      380      │        171        │ [0.401, 0.499] │       0.45       │  0.43  │     8.74     │\n",
      "├──────────┼───────────────┼───────────────────┼────────────────┼──────────────────┼────────┼──────────────┤\n",
      "│   2021   │      380      │        174        │ [0.407, 0.506] │       0.46       │  0.43  │     5.23     │\n",
      "├──────────┼───────────────┼───────────────────┼────────────────┼──────────────────┼────────┼──────────────┤\n",
      "│   2022   │      380      │        168        │ [0.39, 0.489]  │       0.44       │  0.46  │    -7.09     │\n",
      "├──────────┼───────────────┼───────────────────┼────────────────┼──────────────────┼────────┼──────────────┤\n",
      "│   2023   │      380      │        178        │ [0.419, 0.52]  │       0.47       │  0.47  │     0.04     │\n",
      "├──────────┼───────────────┼───────────────────┼────────────────┼──────────────────┼────────┼──────────────┤\n",
      "│   2024   │      380      │        180        │ [0.424, 0.522] │       0.47       │  0.47  │    -1.02     │\n",
      "╘══════════╧═══════════════╧═══════════════════╧════════════════╧══════════════════╧════════╧══════════════╛\n",
      "\n",
      "Overall results\n",
      "╒══════════════╤═══════════════╤═══════════════════╤════════════════╤══════════════════╤════════╤══════════════╕\n",
      "│    Season    │  Bets Placed  │  Successful Bets  │  Sharpness CI  │  Sharpness Mean  │  RBEP  │  Profit (%)  │\n",
      "╞══════════════╪═══════════════╪═══════════════════╪════════════════╪══════════════════╪════════╪══════════════╡\n",
      "│ Whole period │     2280      │       1055        │ [0.443, 0.483] │       0.46       │  0.45  │     0.71     │\n",
      "╘══════════════╧═══════════════╧═══════════════════╧════════════════╧══════════════════╧════════╧══════════════╛\n",
      "\n"
     ]
    },
    {
     "data": {
      "image/png": "[encoded data removed]",
      "text/plain": [
       "<Figure size 1000x600 with 1 Axes>"
      ]
     },
     "metadata": {},
     "output_type": "display_data"
    },
    {
     "name": "stdout",
     "output_type": "stream",
     "text": [
      "\n",
      "Summary of random effect analysis\n",
      "  Average profit over simulations: -0.14%\n",
      "  95% interval of profit: [-5.12%, 5.01%]\n",
      "  Probability of ending better off than in the backtest: 36.40%\n",
      "  Probability of ending with a loss: 52.47%\n",
      "  Probability of ending better off than safe investment: 0.00%\n"
     ]
    }
   ],
   "source": [
    "seasons = [i for i in range(2019, 2025)]\n",
    "posterior_always_bet_home = always_bet_home(df, seasons)"
   ]
  },
  {
   "cell_type": "markdown",
   "metadata": {},
   "source": [
    "Betting on the home team brings slightly different results than placing random bets. The first difference we observe is in sharpness: over all backtested seasons, the mean sharpness we achieved was 0.46, with a 95% credible interval of [0.44, 0.48]. Yet, even though we had more success at placing right bets, our financial performance was worse. In three out of the six backtested seasons, we gathered losses, and our final profit after six seasons was only 0.71%. But how is it possible that our financial performance was worse, if our sharpness was better? The answer lies on the fact that the odds distribution for betting on the home team is different from the odds distribution of betting randomly. Given that bookmakers know home teams have an advantage, the odds offered for home victories are, in general, lower than the odds offered by away victories. However, by betting randomly, we sometimes place bets on away victories with higher odds — and sometimes these bets turn out successful, giving us a higher payoff. The Monte Carlo simulations shine some more light on how betting on the home team might perform. Over ten thousand trials, we had a mean loss of 0.17%, with 95% of the outcomes falling between [-5.16%, 4.87%]. This means that our backtested peformance was slightly better than what we should expect, but in total, a bettor would have a 52.97% chance of ending up with a loss by always betting on the home team."
   ]
  },
  {
   "cell_type": "code",
   "execution_count": 9,
   "metadata": {},
   "outputs": [
    {
     "name": "stdout",
     "output_type": "stream",
     "text": [
      "[0.45917188 0.46278001 0.46084751 ... 0.45765999 0.47719021 0.45337183]\n"
     ]
    }
   ],
   "source": [
    "# Printing posterior samples to compare them in another notebook\n",
    "print(\", \".join(map(str, posterior_placing_random_bets)))\n",
    "print(\", \".join(map(str, posterior_always_bet_home)))"
   ]
  }
 ],
 "metadata": {
  "colab": {
   "authorship_tag": "ABX9TyPmBWx/tBexGU6Bg1d4fRhq",
   "provenance": []
  },
  "kernelspec": {
   "display_name": "env",
   "language": "python",
   "name": "python3"
  },
  "language_info": {
   "codemirror_mode": {
    "name": "ipython",
    "version": 3
   },
   "file_extension": ".py",
   "mimetype": "text/x-python",
   "name": "python",
   "nbconvert_exporter": "python",
   "pygments_lexer": "ipython3",
   "version": "3.12.7"
  }
 },
 "nbformat": 4,
 "nbformat_minor": 0
}
